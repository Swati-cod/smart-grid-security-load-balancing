{
 "cells": [
  {
   "cell_type": "code",
   "execution_count": null,
   "id": "09033970-c3c4-4ef5-b599-fc34f0fb87ca",
   "metadata": {},
   "outputs": [],
   "source": []
  }
 ],
 "metadata": {
  "kernelspec": {
   "display_name": "",
   "name": ""
  },
  "language_info": {
   "name": ""
  }
 },
 "nbformat": 4,
 "nbformat_minor": 5
}
