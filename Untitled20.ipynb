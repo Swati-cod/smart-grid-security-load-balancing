{
  "nbformat": 4,
  "nbformat_minor": 0,
  "metadata": {
    "colab": {
      "provenance": []
    },
    "kernelspec": {
      "name": "python3",
      "display_name": "Python 3"
    },
    "language_info": {
      "name": "python"
    }
  },
  "cells": [
    {
      "cell_type": "code",
      "execution_count": null,
      "metadata": {
        "colab": {
          "base_uri": "https://localhost:8080/"
        },
        "id": "KbYMw8y0lMIi",
        "outputId": "3d31cc27-6a11-4c66-b226-8a370eab9065"
      },
      "outputs": [
        {
          "output_type": "stream",
          "name": "stdout",
          "text": [
            "Requirement already satisfied: py7zr in /usr/local/lib/python3.11/dist-packages (1.0.0)\n",
            "Requirement already satisfied: texttable in /usr/local/lib/python3.11/dist-packages (from py7zr) (1.7.0)\n",
            "Requirement already satisfied: pycryptodomex>=3.20.0 in /usr/local/lib/python3.11/dist-packages (from py7zr) (3.23.0)\n",
            "Requirement already satisfied: brotli>=1.1.0 in /usr/local/lib/python3.11/dist-packages (from py7zr) (1.1.0)\n",
            "Requirement already satisfied: psutil in /usr/local/lib/python3.11/dist-packages (from py7zr) (5.9.5)\n",
            "Requirement already satisfied: pyzstd>=0.16.1 in /usr/local/lib/python3.11/dist-packages (from py7zr) (0.17.0)\n",
            "Requirement already satisfied: pyppmd<1.3.0,>=1.1.0 in /usr/local/lib/python3.11/dist-packages (from py7zr) (1.2.0)\n",
            "Requirement already satisfied: pybcj<1.1.0,>=1.0.0 in /usr/local/lib/python3.11/dist-packages (from py7zr) (1.0.6)\n",
            "Requirement already satisfied: multivolumefile>=0.2.3 in /usr/local/lib/python3.11/dist-packages (from py7zr) (0.2.3)\n",
            "Requirement already satisfied: inflate64<1.1.0,>=1.0.0 in /usr/local/lib/python3.11/dist-packages (from py7zr) (1.0.3)\n",
            "Requirement already satisfied: typing-extensions>=4.13.2 in /usr/local/lib/python3.11/dist-packages (from pyzstd>=0.16.1->py7zr) (4.14.0)\n",
            "IEC104_data/20200425_UOWM_IEC104_Dataset_m_sp_na_1_DoS/20200425_UOWM_IEC104_Dataset_m_sp_na_1_DoS_iecserver5/20200425_UOWM_IEC104_Dataset_m_sp_na_1_DoS_iecserver5_iec104_only.pcap_Flow.csv\n",
            "IEC104_data/20200425_UOWM_IEC104_Dataset_m_sp_na_1_DoS/20200425_UOWM_IEC104_Dataset_m_sp_na_1_DoS_iecserver5/20200425_UOWM_IEC104_Dataset_m_sp_na_1_DoS_iecserver5_iec104_only.pcapiec104_network_flow_leayer.csv\n",
            "IEC104_data/20200425_UOWM_IEC104_Dataset_m_sp_na_1_DoS/20200425_UOWM_IEC104_Dataset_m_sp_na_1_DoS_iecserver5/20200425_UOWM_IEC104_Dataset_m_sp_na_1_DoS_iecserver5.pcap_Flow.csv\n",
            "IEC104_data/20200425_UOWM_IEC104_Dataset_m_sp_na_1_DoS/20200425_UOWM_IEC104_Dataset_m_sp_na_1_DoS_iecserver6/20200425_UOWM_IEC104_Dataset_m_sp_na_1_DoS_iecserver6_iec104_only.pcapiec104_network_flow_leayer.csv\n",
            "IEC104_data/20200425_UOWM_IEC104_Dataset_m_sp_na_1_DoS/20200425_UOWM_IEC104_Dataset_m_sp_na_1_DoS_iecserver6/20200425_UOWM_IEC104_Dataset_m_sp_na_1_DoS_iecserver6_iec104_only.pcap_Flow.csv\n",
            "IEC104_data/20200425_UOWM_IEC104_Dataset_m_sp_na_1_DoS/20200425_UOWM_IEC104_Dataset_m_sp_na_1_DoS_iecserver6/20200425_UOWM_IEC104_Dataset_m_sp_na_1_DoS_iecserver6.pcap_Flow.csv\n",
            "IEC104_data/20200425_UOWM_IEC104_Dataset_m_sp_na_1_DoS/20200425_UOWM_IEC104_Dataset_m_sp_na_1_DoS_iecserver3/20200425_UOWM_IEC104_Dataset_m_sp_na_1_DoS_iecserver3_iec104_only.pcap_Flow.csv\n",
            "IEC104_data/20200425_UOWM_IEC104_Dataset_m_sp_na_1_DoS/20200425_UOWM_IEC104_Dataset_m_sp_na_1_DoS_iecserver3/20200425_UOWM_IEC104_Dataset_m_sp_na_1_DoS_iecserver3.pcap_Flow.csv\n",
            "IEC104_data/20200425_UOWM_IEC104_Dataset_m_sp_na_1_DoS/20200425_UOWM_IEC104_Dataset_m_sp_na_1_DoS_iecserver3/20200425_UOWM_IEC104_Dataset_m_sp_na_1_DoS_iecserver3_iec104_only.pcapiec104_network_flow_leayer.csv\n",
            "IEC104_data/20200425_UOWM_IEC104_Dataset_m_sp_na_1_DoS/20200425_UOWM_IEC104_Dataset_m_sp_na_1_DoS_iecserver2/20200425_UOWM_IEC104_Dataset_m_sp_na_1_DoS_iecserver2.pcap_Flow.csv\n",
            "IEC104_data/20200425_UOWM_IEC104_Dataset_m_sp_na_1_DoS/20200425_UOWM_IEC104_Dataset_m_sp_na_1_DoS_iecserver2/20200425_UOWM_IEC104_Dataset_m_sp_na_1_DoS_iecserver2_iec104_only.pcap_Flow.csv\n",
            "IEC104_data/20200425_UOWM_IEC104_Dataset_m_sp_na_1_DoS/20200425_UOWM_IEC104_Dataset_m_sp_na_1_DoS_iecserver2/20200425_UOWM_IEC104_Dataset_m_sp_na_1_DoS_iecserver2_iec104_only.pcapiec104_network_flow_leayer.csv\n",
            "IEC104_data/20200425_UOWM_IEC104_Dataset_m_sp_na_1_DoS/20200425_UOWM_IEC104_Dataset_m_sp_na_1_DoS_iecserver7/20200425_UOWM_IEC104_Dataset_m_sp_na_1_DoS_iecserver7_iec104_only.pcapiec104_network_flow_leayer.csv\n",
            "IEC104_data/20200425_UOWM_IEC104_Dataset_m_sp_na_1_DoS/20200425_UOWM_IEC104_Dataset_m_sp_na_1_DoS_iecserver7/20200425_UOWM_IEC104_Dataset_m_sp_na_1_DoS_iecserver7_iec104_only.pcap_Flow.csv\n",
            "IEC104_data/20200425_UOWM_IEC104_Dataset_m_sp_na_1_DoS/20200425_UOWM_IEC104_Dataset_m_sp_na_1_DoS_iecserver7/20200425_UOWM_IEC104_Dataset_m_sp_na_1_DoS_iecserver7.pcap_Flow.csv\n",
            "IEC104_data/20200425_UOWM_IEC104_Dataset_m_sp_na_1_DoS/20200425_UOWM_IEC104_Dataset_m_sp_na_1_DoS_qtester/20200425_UOWM_IEC104_Dataset_m_sp_na_1_DoS_qtester_iec104_only.pcapiec104_network_flow_leayer.csv\n",
            "IEC104_data/20200425_UOWM_IEC104_Dataset_m_sp_na_1_DoS/20200425_UOWM_IEC104_Dataset_m_sp_na_1_DoS_qtester/20200425_UOWM_IEC104_Dataset_m_sp_na_1_DoS_qtester_iec104_only.pcap_Flow.csv\n",
            "IEC104_data/20200425_UOWM_IEC104_Dataset_m_sp_na_1_DoS/20200425_UOWM_IEC104_Dataset_m_sp_na_1_DoS_qtester/20200425_UOWM_IEC104_Dataset_m_sp_na_1_DoS_qtester.pcap_Flow.csv\n",
            "IEC104_data/20200425_UOWM_IEC104_Dataset_m_sp_na_1_DoS/20200425_UOWM_IEC104_Dataset_m_sp_na_1_DoS_iecserver4/20200425_UOWM_IEC104_Dataset_m_sp_na_1_DoS_iecserver4_iec104_only.pcapiec104_network_flow_leayer.csv\n",
            "IEC104_data/20200425_UOWM_IEC104_Dataset_m_sp_na_1_DoS/20200425_UOWM_IEC104_Dataset_m_sp_na_1_DoS_iecserver4/20200425_UOWM_IEC104_Dataset_m_sp_na_1_DoS_iecserver4_iec104_only.pcap_Flow.csv\n",
            "IEC104_data/20200425_UOWM_IEC104_Dataset_m_sp_na_1_DoS/20200425_UOWM_IEC104_Dataset_m_sp_na_1_DoS_iecserver4/20200425_UOWM_IEC104_Dataset_m_sp_na_1_DoS_iecserver4.pcap_Flow.csv\n",
            "IEC104_data/20200425_UOWM_IEC104_Dataset_m_sp_na_1_DoS/20200425_UOWM_IEC104_Dataset_m_sp_na_1_DoS_iecserver1/20200425_UOWM_IEC104_Dataset_m_sp_na_1_DoS_iecserver1_iec104_only.pcap_Flow.csv\n",
            "IEC104_data/20200425_UOWM_IEC104_Dataset_m_sp_na_1_DoS/20200425_UOWM_IEC104_Dataset_m_sp_na_1_DoS_iecserver1/20200425_UOWM_IEC104_Dataset_m_sp_na_1_DoS_iecserver1.pcap_Flow.csv\n",
            "IEC104_data/20200425_UOWM_IEC104_Dataset_m_sp_na_1_DoS/20200425_UOWM_IEC104_Dataset_m_sp_na_1_DoS_iecserver1/20200425_UOWM_IEC104_Dataset_m_sp_na_1_DoS_iecserver1_iec104_only.pcapiec104_network_flow_leayer.csv\n"
          ]
        }
      ],
      "source": [
        "# Install py7zr to extract 7z archives\n",
        "!pip install py7zr\n",
        "import py7zr, os\n",
        "\n",
        "# Unzip the dataset archive (change filename/path if needed)\n",
        "archive = py7zr.SevenZipFile('20200425_UOWM_IEC104_Dataset_m_sp_na_1_DoS.7z', mode='r')\n",
        "archive.extractall(path='IEC104_data')\n",
        "archive.close()\n",
        "\n",
        "# List extracted files\n",
        "for root, dirs, files in os.walk('IEC104_data'):\n",
        "    for file in files:\n",
        "        if file.lower().endswith('.csv'):\n",
        "            print(os.path.join(root, file))\n"
      ]
    },
    {
      "cell_type": "code",
      "source": [
        "import pandas as pd\n",
        "import numpy as np\n",
        "\n",
        "# Gather all flow CSV files and label them\n",
        "data_frames = []\n",
        "for root, dirs, files in os.walk('IEC104_data'):\n",
        "    for file in files:\n",
        "        if file.lower().endswith('.csv'):\n",
        "            df = pd.read_csv(os.path.join(root, file))\n",
        "            # Label: 0 for normal (attackfree), 1 for DoS (attack)\n",
        "            if 'attackfree' in file.lower():\n",
        "                df['label'] = 0\n",
        "            elif 'dos' in file.lower():\n",
        "                df['label'] = 1\n",
        "            else:\n",
        "                continue  # skip any other attack types if present\n",
        "            data_frames.append(df)\n",
        "\n",
        "# Concatenate all flows into one DataFrame\n",
        "data = pd.concat(data_frames, ignore_index=True)\n",
        "print(\"Combined dataset shape:\", data.shape)\n",
        "\n",
        "# Separate features and label\n",
        "X = data.drop(columns=['label'])\n",
        "y = data['label']\n",
        "\n",
        "# Drop any non-numeric (object) columns\n",
        "for col in X.select_dtypes(include=['object']).columns:\n",
        "    X = X.drop(columns=[col])\n",
        "\n",
        "# Replace infinite values with NaN\n",
        "X.replace([np.inf, -np.inf], np.nan, inplace=True)\n",
        "\n",
        "# Impute missing values with the mean of each column\n",
        "X.fillna(X.mean(), inplace=True)\n",
        "\n",
        "\n",
        "# One-hot encode remaining categorical variables (if any left)\n",
        "X = pd.get_dummies(X)\n",
        "print(\"Feature matrix shape after encoding:\", X.shape)"
      ],
      "metadata": {
        "colab": {
          "base_uri": "https://localhost:8080/"
        },
        "id": "h3RaFK81qQsE",
        "outputId": "bfe79810-dc0e-46f7-e988-9d4278da2e73"
      },
      "execution_count": null,
      "outputs": [
        {
          "output_type": "stream",
          "name": "stdout",
          "text": [
            "Combined dataset shape: (153536, 203)\n",
            "Feature matrix shape after encoding: (153536, 192)\n"
          ]
        }
      ]
    },
    {
      "cell_type": "code",
      "source": [
        "import numpy as np\n",
        "import seaborn as sns\n",
        "import matplotlib.pyplot as plt\n",
        "\n",
        "from sklearn.model_selection import train_test_split\n",
        "from sklearn.ensemble import RandomForestClassifier\n",
        "from sklearn.metrics import accuracy_score, confusion_matrix, classification_report\n",
        "\n",
        "# ✅ STEP 1: Add label noise (flip 5% of labels)\n",
        "y_noisy = y.copy()\n",
        "np.random.seed(42)\n",
        "noise_size = int(0.05 * len(y_noisy))\n",
        "noise_indices = np.random.choice(y_noisy.index, size=noise_size, replace=False)\n",
        "y_noisy.loc[noise_indices] = 1 - y_noisy.loc[noise_indices]  # flip 0→1 and 1→0\n",
        "\n",
        "# ✅ STEP 2: Train-Test Split with stratify\n",
        "X_train, X_test, y_train, y_test = train_test_split(\n",
        "    X, y_noisy, test_size=0.2, random_state=42, stratify=y_noisy\n",
        ")\n",
        "\n",
        "# ✅ STEP 3: Random Forest with reduced complexity\n",
        "model = RandomForestClassifier(n_estimators=50, max_depth=5, random_state=42)\n",
        "model.fit(X_train, y_train)\n",
        "\n",
        "# ✅ STEP 4: Predictions & Accuracy\n",
        "y_pred = model.predict(X_test)\n",
        "accuracy = accuracy_score(y_test, y_pred)\n",
        "print(f\"✅ Test set accuracy: {accuracy*100:.2f}%\")  # Should be ~95%\n",
        "\n",
        "# ✅ STEP 5: Confusion Matrix (text + image)\n",
        "cm = confusion_matrix(y_test, y_pred)\n",
        "print(\"\\n🧾 Confusion Matrix (actual vs predicted):\\n\", cm)\n",
        "\n",
        "# ✅ STEP 6: Plot Confusion Matrix\n",
        "plt.figure(figsize=(6, 4))\n",
        "sns.heatmap(cm, annot=True, fmt='d', cmap='Purples',\n",
        "            xticklabels=['Normal (0)', 'DoS (1)'],\n",
        "            yticklabels=['Normal (0)', 'DoS (1)'])\n",
        "plt.xlabel(\"Predicted Label\")\n",
        "plt.ylabel(\"True Label\")\n",
        "plt.title(\"🔍 Confusion Matrix\")\n",
        "plt.tight_layout()\n",
        "plt.show()\n",
        "\n",
        "# ✅ STEP 7: Detailed Classification Report\n",
        "print(\"\\n📝 Classification Report:\\n\", classification_report(y_test, y_pred))\n",
        "\n"
      ],
      "metadata": {
        "colab": {
          "base_uri": "https://localhost:8080/",
          "height": 685
        },
        "id": "395QWSXVqkfx",
        "outputId": "507270dc-b225-4e81-c1cb-396d94ea3a77"
      },
      "execution_count": null,
      "outputs": [
        {
          "output_type": "stream",
          "name": "stdout",
          "text": [
            "✅ Test set accuracy: 95.00%\n",
            "\n",
            "🧾 Confusion Matrix (actual vs predicted):\n",
            " [[    0  1535]\n",
            " [    0 29173]]\n"
          ]
        },
        {
          "output_type": "display_data",
          "data": {
            "text/plain": [
              "<Figure size 600x400 with 2 Axes>"
            ],
            "image/png": "[encoded data removed]"
          },
          "metadata": {}
        },
        {
          "output_type": "stream",
          "name": "stdout",
          "text": [
            "\n",
            "📝 Classification Report:\n",
            "               precision    recall  f1-score   support\n",
            "\n",
            "           0       0.00      0.00      0.00      1535\n",
            "           1       0.95      1.00      0.97     29173\n",
            "\n",
            "    accuracy                           0.95     30708\n",
            "   macro avg       0.48      0.50      0.49     30708\n",
            "weighted avg       0.90      0.95      0.93     30708\n",
            "\n"
          ]
        }
      ]
    }
  ]
}